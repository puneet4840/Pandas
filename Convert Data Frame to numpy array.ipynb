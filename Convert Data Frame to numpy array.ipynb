{
 "cells": [
  {
   "cell_type": "markdown",
   "metadata": {},
   "source": [
    "# to_numpy() method is used to convert the pandas Data Frmae to numpy nd array."
   ]
  },
  {
   "cell_type": "code",
   "execution_count": 2,
   "metadata": {},
   "outputs": [],
   "source": [
    "from pandas import *"
   ]
  },
  {
   "cell_type": "code",
   "execution_count": 4,
   "metadata": {},
   "outputs": [
    {
     "data": {
      "text/plain": [
       "<bound method DataFrame.to_numpy of                               Region  Country  Item Type Sales Channel  \\\n",
       "0              Australia and Oceania   Tuvalu  Baby Food       Offline   \n",
       "1  Central America and the Caribbean  Grenada     Cereal        Online   \n",
       "\n",
       "  Order Priority Order Date   Order ID  Ship Date  Units Sold Unit Price  \n",
       "0              H  5/28/2010  669165933  6/27/2010      9925.0     255.28  \n",
       "1              C  8/22/2012  963881480  9/15/2012      2804.0      205.7  >"
      ]
     },
     "execution_count": 4,
     "metadata": {},
     "output_type": "execute_result"
    }
   ],
   "source": [
    "df=read_csv(\"E:\\Records2.csv\").head(2)\n",
    "arr=df.to_numpy\n",
    "arr"
   ]
  },
  {
   "cell_type": "code",
   "execution_count": null,
   "metadata": {},
   "outputs": [],
   "source": []
  }
 ],
 "metadata": {
  "kernelspec": {
   "display_name": "Python 3",
   "language": "python",
   "name": "python3"
  },
  "language_info": {
   "codemirror_mode": {
    "name": "ipython",
    "version": 3
   },
   "file_extension": ".py",
   "mimetype": "text/x-python",
   "name": "python",
   "nbconvert_exporter": "python",
   "pygments_lexer": "ipython3",
   "version": "3.8.4"
  }
 },
 "nbformat": 4,
 "nbformat_minor": 4
}
